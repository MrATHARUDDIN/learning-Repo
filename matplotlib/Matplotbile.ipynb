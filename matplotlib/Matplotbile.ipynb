{
 "cells": [
  {
   "cell_type": "code",
   "execution_count": null,
   "id": "160f975e",
   "metadata": {},
   "outputs": [],
   "source": [
    "import matplotlib.pyplot as plt\n",
    "import numpy as np\n",
    "\n",
    "# Week numbers (1 to 5)\n",
    "weeks = np.arange(1, 6)\n",
    "\n",
    "math_hours = np.random.randint(1,5, size=5)\n",
    "info_hours = np.random.randint(2,5, size=5)\n",
    "\n",
    "\n",
    "# Normal Plot\n",
    "# 1. Basic line plot\n",
    "plt.plot(weeks, math_hours)\n",
    "# 2. Plot another line\n",
    "plt.plot(weeks, info_hours)\n",
    "\n",
    "\n",
    "# 3. Add title and axis labels\n",
    "plt.title(\"Study Chart\")\n",
    "plt.xlabel(\"Week\")\n",
    "plt.ylabel(\"Study Hours\")\n",
    "\n",
    "# 4. Add legend\n",
    "plt.legend()\n",
    "\n",
    "# 5. plot styling \n",
    "plt.plot(weeks, math_hours, color='blue', linestyle='--', marker='o', label='Math Styled')\n",
    "plt.plot(weeks, info_hours, color='red', linestyle='--', marker='o', label='Informatica Styled')\n",
    "\n",
    "plt.legend(loc='upper left')\n",
    "\n",
    "plt.show()"
   ]
  }
 ],
 "metadata": {
  "kernelspec": {
   "display_name": "base",
   "language": "python",
   "name": "python3"
  },
  "language_info": {
   "codemirror_mode": {
    "name": "ipython",
    "version": 3
   },
   "file_extension": ".py",
   "mimetype": "text/x-python",
   "name": "python",
   "nbconvert_exporter": "python",
   "pygments_lexer": "ipython3",
   "version": "3.13.5"
  }
 },
 "nbformat": 4,
 "nbformat_minor": 5
}
