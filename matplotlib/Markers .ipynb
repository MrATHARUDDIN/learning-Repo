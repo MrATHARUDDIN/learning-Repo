{
 "cells": [
  {
   "cell_type": "code",
   "execution_count": null,
   "id": "b696a71b",
   "metadata": {},
   "outputs": [],
   "source": [
    "# You can use the keyword argument marker to emphasize each point with a specified marker\n",
    "import matplotlib.pyplot as plt\n",
    "import numpy as np\n",
    "\n",
    "# Example data\n",
    "ypointer1 = np.array([2, 5, 6, 7, 8, 4])\n",
    "ypointer2 = np.array([1, 4, 5, 6, 3, 2])\n",
    "ypointer3 = np.array([3, 2, 4, 5, 6, 7])\n",
    "\n",
    "plt.plot(ypointer1, marker='o', label=\"Circle Marker\")     # Circle\n",
    "plt.plot(ypointer2, marker='x', label=\"X Marker\")          # X\n",
    "plt.plot(ypointer3, marker='*', label=\"Star Marker\")       # Star\n",
    "# so basicaly it will show us the number by a dot(marker/design) of xaxis and yaxis\n",
    "\n",
    "\n",
    "plt.plot([1, 2, 3, 4], [1, 4, 9, 16], 'ro') # Plot red ('r') circle ('o') markers at specified (x, y) points\n",
    "\n",
    "\n",
    "plt.legend()\n",
    "plt.title(\"Multiple Marker Example\")\n",
    "plt.xlabel(\"X Axis\")\n",
    "plt.ylabel(\"Y Axis\")\n",
    "plt.grid(True)\n",
    "plt.show()\n",
    "\n",
    "\n"
   ]
  }
 ],
 "metadata": {
  "kernelspec": {
   "display_name": "base",
   "language": "python",
   "name": "python3"
  },
  "language_info": {
   "codemirror_mode": {
    "name": "ipython",
    "version": 3
   },
   "file_extension": ".py",
   "mimetype": "text/x-python",
   "name": "python",
   "nbconvert_exporter": "python",
   "pygments_lexer": "ipython3",
   "version": "3.13.5"
  }
 },
 "nbformat": 4,
 "nbformat_minor": 5
}
