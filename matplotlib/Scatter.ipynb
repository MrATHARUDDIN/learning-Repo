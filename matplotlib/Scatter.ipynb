{
 "cells": [
  {
   "cell_type": "code",
   "execution_count": null,
   "id": "5c02838f",
   "metadata": {},
   "outputs": [],
   "source": [
    "import matplotlib.pyplot as plt\n",
    "colors = ['red', 'green', 'blue', 'orange', 'purple', 'brown', 'cyan', 'magenta']\n",
    "x = [1, 5, 8, 10, 15, 18, 2, 9]\n",
    "y = [80, 85, 88, 90, 100, 86, 103, 87]\n",
    "sizes = [20, 50, 80, 200, 500, 60, 90, 100]  # Marker size\n",
    "\n",
    "plt.scatter(x, y, sizes=sizes, c=colors)\n",
    "plt.title(\"Basic Scatter Plot\")\n",
    "plt.colorbar()  # Shows the color scale\n",
    "plt.xlabel(\"X values\")\n",
    "plt.ylabel(\"Y values\")\n",
    "plt.show()"
   ]
  }
 ],
 "metadata": {
  "kernelspec": {
   "display_name": "base",
   "language": "python",
   "name": "python3"
  },
  "language_info": {
   "codemirror_mode": {
    "name": "ipython",
    "version": 3
   },
   "file_extension": ".py",
   "mimetype": "text/x-python",
   "name": "python",
   "nbconvert_exporter": "python",
   "pygments_lexer": "ipython3",
   "version": "3.13.5"
  }
 },
 "nbformat": 4,
 "nbformat_minor": 5
}
