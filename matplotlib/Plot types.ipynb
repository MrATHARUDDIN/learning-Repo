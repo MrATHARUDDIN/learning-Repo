{
 "cells": [
  {
   "cell_type": "code",
   "execution_count": null,
   "id": "6ce6f035",
   "metadata": {},
   "outputs": [],
   "source": [
    "import matplotlib.pyplot as plt\n",
    "\n",
    "# First plot data\n",
    "x1 = [1, 2, 3, 4]\n",
    "y1 = [10, 20, 25, 30]\n",
    "\n",
    "# Second plot data\n",
    "x2 = [1, 2, 3, 4]\n",
    "y2 = [30, 23, 15, 5]\n",
    "\n",
    "# Create two subplots side by side\n",
    "plt.subplot(1, 2, 1)  # 1 row, 2 columns, 1st subplot\n",
    "plt.plot(x1, y1)\n",
    "plt.scatter(x1, y1, color='red') \n",
    "plt.title(\"Line Graph\")\n",
    "\n",
    "plt.subplot(1, 2, 2)  # 1 row, 2 columns, 2nd subplot\n",
    "plt.bar(x2, y2 )\n",
    "plt.scatter(x2, y2, color='red')  # Scatter with y1 so points differ\n",
    "plt.title(\"Bar and Scatter Graph\")\n",
    "\n",
    "plt.tight_layout()  # Adjust layout to avoid overlap\n",
    "plt.show()\n"
   ]
  },
  {
   "cell_type": "code",
   "execution_count": null,
   "id": "14dcafdf",
   "metadata": {},
   "outputs": [],
   "source": [
    "\n",
    "import numpy as np\n",
    "\n",
    "x = np.array([5,8,9,4,3,3])\n",
    "ypoints = np.array([5,7,4,3,3])\n",
    "plt.plot(x , c=\"red\", linewidth=3.5 , linestyle=\"dotted\") # c = color\n",
    "plt.plot(ypoints, linestyle = 'dashed' ,c=\"blue\")\n",
    "\n",
    "# Short_hand\n",
    "\n",
    "# dotted can be written as :.\n",
    "# dashed can be written as --.\n",
    "plt.show()"
   ]
  }
 ],
 "metadata": {
  "kernelspec": {
   "display_name": "base",
   "language": "python",
   "name": "python3"
  },
  "language_info": {
   "codemirror_mode": {
    "name": "ipython",
    "version": 3
   },
   "file_extension": ".py",
   "mimetype": "text/x-python",
   "name": "python",
   "nbconvert_exporter": "python",
   "pygments_lexer": "ipython3",
   "version": "3.13.5"
  }
 },
 "nbformat": 4,
 "nbformat_minor": 5
}
