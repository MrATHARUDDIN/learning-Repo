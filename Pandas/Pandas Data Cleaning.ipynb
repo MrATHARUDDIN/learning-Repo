{
 "cells": [
  {
   "cell_type": "code",
   "execution_count": 2,
   "id": "b6c8212b",
   "metadata": {},
   "outputs": [
    {
     "name": "stdout",
     "output_type": "stream",
     "text": [
      "               Player  Total Goals  World Cup Wins  Total Assists  Total Matches\n",
      "0                Pelé         77.0               3             30           92.0\n",
      "1      Miroslav Klose         71.0               1             20          137.0\n",
      "2             Ronaldo         62.0               0             25           98.0\n",
      "3        Lionel Messi         81.0               1             50          150.0\n",
      "4   Cristiano Ronaldo         85.0               0             35          165.0\n",
      "5         Gerd Müller         68.0               1             15           85.0\n",
      "6     Zinedine Zidane         31.0               1             25          108.0\n",
      "7      Diego Maradona         34.0               1             20           91.0\n",
      "8       Thierry Henry         51.0               0             30          123.0\n",
      "9              Neymar         69.0               0             40          120.0\n",
      "10   Jürgen Klinsmann         48.0               0             20          109.0\n",
      "11      David Beckham         17.0               1             62          115.0\n",
      "12         Ronaldinho         33.0               1             40           97.0\n",
      "13        Luis Suárez         59.0               0             25          110.0\n",
      "14     Andrés Iniesta         35.0               1             40          130.0\n",
      "15               Kaká         29.0               1             35           92.0\n",
      "16      Frank Lampard         29.0               0             40          106.0\n",
      "17       Wayne Rooney         53.0               0             30          120.0\n",
      "18     Xavi Hernández         43.0               1             60          133.0\n",
      "19     Steven Gerrard         31.0               0             35          114.0\n",
      "20              Athar          NaN               0             21          114.0\n",
      "21              Azhar         11.0               0             24            NaN\n"
     ]
    }
   ],
   "source": [
    "import pandas as pd\n",
    "\n",
    "df = pd.read_csv('csv/footballer.csv')\n",
    "print(df.to_string()) "
   ]
  },
  {
   "cell_type": "code",
   "execution_count": 3,
   "id": "98b3a7f5",
   "metadata": {},
   "outputs": [
    {
     "name": "stdout",
     "output_type": "stream",
     "text": [
      "               Player  Total Goals  World Cup Wins  Total Assists  \\\n",
      "0                Pelé         77.0               3             30   \n",
      "1      Miroslav Klose         71.0               1             20   \n",
      "2             Ronaldo         62.0               0             25   \n",
      "3        Lionel Messi         81.0               1             50   \n",
      "4   Cristiano Ronaldo         85.0               0             35   \n",
      "5         Gerd Müller         68.0               1             15   \n",
      "6     Zinedine Zidane         31.0               1             25   \n",
      "7      Diego Maradona         34.0               1             20   \n",
      "8       Thierry Henry         51.0               0             30   \n",
      "9              Neymar         69.0               0             40   \n",
      "10   Jürgen Klinsmann         48.0               0             20   \n",
      "11      David Beckham         17.0               1             62   \n",
      "12         Ronaldinho         33.0               1             40   \n",
      "13        Luis Suárez         59.0               0             25   \n",
      "14     Andrés Iniesta         35.0               1             40   \n",
      "15               Kaká         29.0               1             35   \n",
      "16      Frank Lampard         29.0               0             40   \n",
      "17       Wayne Rooney         53.0               0             30   \n",
      "18     Xavi Hernández         43.0               1             60   \n",
      "19     Steven Gerrard         31.0               0             35   \n",
      "\n",
      "    Total Matches  \n",
      "0            92.0  \n",
      "1           137.0  \n",
      "2            98.0  \n",
      "3           150.0  \n",
      "4           165.0  \n",
      "5            85.0  \n",
      "6           108.0  \n",
      "7            91.0  \n",
      "8           123.0  \n",
      "9           120.0  \n",
      "10          109.0  \n",
      "11          115.0  \n",
      "12           97.0  \n",
      "13          110.0  \n",
      "14          130.0  \n",
      "15           92.0  \n",
      "16          106.0  \n",
      "17          120.0  \n",
      "18          133.0  \n",
      "19          114.0  \n"
     ]
    }
   ],
   "source": [
    "# Data cleaning\n",
    "new_df = df.dropna() #Note: By default, the dropna() method returns a new DataFrame, and will not change the original.\n",
    "print(new_df) "
   ]
  },
  {
   "cell_type": "code",
   "execution_count": 4,
   "id": "4d0b5ea1",
   "metadata": {},
   "outputs": [
    {
     "name": "stdout",
     "output_type": "stream",
     "text": [
      "               Player  Total Goals  World Cup Wins  Total Assists  Total Matches\n",
      "0                Pelé         77.0               3             30           92.0\n",
      "1      Miroslav Klose         71.0               1             20          137.0\n",
      "2             Ronaldo         62.0               0             25           98.0\n",
      "3        Lionel Messi         81.0               1             50          150.0\n",
      "4   Cristiano Ronaldo         85.0               0             35          165.0\n",
      "5         Gerd Müller         68.0               1             15           85.0\n",
      "6     Zinedine Zidane         31.0               1             25          108.0\n",
      "7      Diego Maradona         34.0               1             20           91.0\n",
      "8       Thierry Henry         51.0               0             30          123.0\n",
      "9              Neymar         69.0               0             40          120.0\n",
      "10   Jürgen Klinsmann         48.0               0             20          109.0\n",
      "11      David Beckham         17.0               1             62          115.0\n",
      "12         Ronaldinho         33.0               1             40           97.0\n",
      "13        Luis Suárez         59.0               0             25          110.0\n",
      "14     Andrés Iniesta         35.0               1             40          130.0\n",
      "15               Kaká         29.0               1             35           92.0\n",
      "16      Frank Lampard         29.0               0             40          106.0\n",
      "17       Wayne Rooney         53.0               0             30          120.0\n",
      "18     Xavi Hernández         43.0               1             60          133.0\n",
      "19     Steven Gerrard         31.0               0             35          114.0\n"
     ]
    }
   ],
   "source": [
    "# Remove all the Null value \n",
    "df.dropna(inplace = True) # best practice\n",
    "\n",
    "print(df.to_string())"
   ]
  },
  {
   "cell_type": "code",
   "execution_count": null,
   "id": "837c61da",
   "metadata": {},
   "outputs": [],
   "source": [
    "# Replace all Emty value with number\n",
    "import pandas as pd\n",
    "dff = pd.read_csv('csv/footballer.csv')\n",
    "dff.fillna(0, inplace = True)\n",
    "\n",
    "print(dff.to_string())"
   ]
  },
  {
   "cell_type": "code",
   "execution_count": null,
   "id": "acdc9da8",
   "metadata": {},
   "outputs": [
    {
     "name": "stdout",
     "output_type": "stream",
     "text": [
      "               Player  Total Goals  World Cup Wins  Total Assists  Total Matches\n",
      "0                Pelé         77.0               3             30           92.0\n",
      "1      Miroslav Klose         71.0               1             20          137.0\n",
      "2             Ronaldo         62.0               0             25           98.0\n",
      "3        Lionel Messi         81.0               1             50          150.0\n",
      "4   Cristiano Ronaldo         85.0               0             35          165.0\n",
      "5         Gerd Müller         68.0               1             15           85.0\n",
      "6     Zinedine Zidane         31.0               1             25          108.0\n",
      "7      Diego Maradona         34.0               1             20           91.0\n",
      "8       Thierry Henry         51.0               0             30          123.0\n",
      "9              Neymar         69.0               0             40          120.0\n",
      "10   Jürgen Klinsmann         48.0               0             20          109.0\n",
      "11      David Beckham         17.0               1             62          115.0\n",
      "12         Ronaldinho         33.0               1             40           97.0\n",
      "13        Luis Suárez         59.0               0             25          110.0\n",
      "14     Andrés Iniesta         35.0               1             40          130.0\n",
      "15               Kaká         29.0               1             35           92.0\n",
      "16      Frank Lampard         29.0               0             40          106.0\n",
      "17       Wayne Rooney         53.0               0             30          120.0\n",
      "18     Xavi Hernández         43.0               1             60          133.0\n",
      "19     Steven Gerrard         31.0               0             35          114.0\n",
      "20              Athar        130.0               0             21          114.0\n"
     ]
    }
   ],
   "source": [
    "# Replace Only Specifice Column\n",
    "dataframe = pd.read_csv('csv/footballer.csv')\n",
    "\n",
    "# Only make Total Goal 130 if it's Null\n",
    "dataframe.fillna({\"Total Goals\":130}, inplace=True)\n",
    "dataframe.dropna(inplace = True) # Remove row\n",
    "\n",
    "print(dataframe.to_string())"
   ]
  }
 ],
 "metadata": {
  "kernelspec": {
   "display_name": "base",
   "language": "python",
   "name": "python3"
  },
  "language_info": {
   "codemirror_mode": {
    "name": "ipython",
    "version": 3
   },
   "file_extension": ".py",
   "mimetype": "text/x-python",
   "name": "python",
   "nbconvert_exporter": "python",
   "pygments_lexer": "ipython3",
   "version": "3.13.5"
  }
 },
 "nbformat": 4,
 "nbformat_minor": 5
}
