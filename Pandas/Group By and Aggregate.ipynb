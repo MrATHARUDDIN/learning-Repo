{
 "cells": [
  {
   "cell_type": "code",
   "execution_count": 1,
   "id": "c6cfc6f9",
   "metadata": {},
   "outputs": [],
   "source": [
    "import pandas as pd"
   ]
  },
  {
   "cell_type": "code",
   "execution_count": 21,
   "id": "8cd8f37c",
   "metadata": {},
   "outputs": [
    {
     "data": {
      "text/html": [
       "<div>\n",
       "<style scoped>\n",
       "    .dataframe tbody tr th:only-of-type {\n",
       "        vertical-align: middle;\n",
       "    }\n",
       "\n",
       "    .dataframe tbody tr th {\n",
       "        vertical-align: top;\n",
       "    }\n",
       "\n",
       "    .dataframe thead th {\n",
       "        text-align: right;\n",
       "    }\n",
       "</style>\n",
       "<table border=\"1\" class=\"dataframe\">\n",
       "  <thead>\n",
       "    <tr style=\"text-align: right;\">\n",
       "      <th></th>\n",
       "      <th>Flavor</th>\n",
       "      <th>BaseFlavor</th>\n",
       "      <th>Liked</th>\n",
       "      <th>Flavor Rating</th>\n",
       "      <th>Texture Rating</th>\n",
       "      <th>Total Rating</th>\n",
       "    </tr>\n",
       "  </thead>\n",
       "  <tbody>\n",
       "    <tr>\n",
       "      <th>0</th>\n",
       "      <td>Mint Chocolate Chip</td>\n",
       "      <td>Vanilla</td>\n",
       "      <td>Yes</td>\n",
       "      <td>10.0</td>\n",
       "      <td>8.0</td>\n",
       "      <td>18.0</td>\n",
       "    </tr>\n",
       "    <tr>\n",
       "      <th>1</th>\n",
       "      <td>Chocolate</td>\n",
       "      <td>Chocolate</td>\n",
       "      <td>Yes</td>\n",
       "      <td>8.8</td>\n",
       "      <td>7.6</td>\n",
       "      <td>16.6</td>\n",
       "    </tr>\n",
       "    <tr>\n",
       "      <th>2</th>\n",
       "      <td>Vanilla</td>\n",
       "      <td>Vanilla</td>\n",
       "      <td>No</td>\n",
       "      <td>4.7</td>\n",
       "      <td>5.0</td>\n",
       "      <td>9.7</td>\n",
       "    </tr>\n",
       "    <tr>\n",
       "      <th>3</th>\n",
       "      <td>Cookie Dough</td>\n",
       "      <td>Vanilla</td>\n",
       "      <td>Yes</td>\n",
       "      <td>6.9</td>\n",
       "      <td>6.5</td>\n",
       "      <td>13.4</td>\n",
       "    </tr>\n",
       "    <tr>\n",
       "      <th>4</th>\n",
       "      <td>Rocky Road</td>\n",
       "      <td>Chocolate</td>\n",
       "      <td>Yes</td>\n",
       "      <td>8.2</td>\n",
       "      <td>7.0</td>\n",
       "      <td>15.2</td>\n",
       "    </tr>\n",
       "    <tr>\n",
       "      <th>5</th>\n",
       "      <td>Pistachio</td>\n",
       "      <td>Vanilla</td>\n",
       "      <td>No</td>\n",
       "      <td>2.3</td>\n",
       "      <td>3.4</td>\n",
       "      <td>5.7</td>\n",
       "    </tr>\n",
       "    <tr>\n",
       "      <th>6</th>\n",
       "      <td>Cake Batter</td>\n",
       "      <td>Vanilla</td>\n",
       "      <td>Yes</td>\n",
       "      <td>6.5</td>\n",
       "      <td>6.0</td>\n",
       "      <td>12.5</td>\n",
       "    </tr>\n",
       "    <tr>\n",
       "      <th>7</th>\n",
       "      <td>Neapolitan</td>\n",
       "      <td>Vanilla</td>\n",
       "      <td>No</td>\n",
       "      <td>3.8</td>\n",
       "      <td>5.0</td>\n",
       "      <td>8.8</td>\n",
       "    </tr>\n",
       "    <tr>\n",
       "      <th>8</th>\n",
       "      <td>Chocolte Fudge Brownie</td>\n",
       "      <td>Chocolate</td>\n",
       "      <td>Yes</td>\n",
       "      <td>8.2</td>\n",
       "      <td>7.1</td>\n",
       "      <td>15.3</td>\n",
       "    </tr>\n",
       "  </tbody>\n",
       "</table>\n",
       "</div>"
      ],
      "text/plain": [
       "                   Flavor BaseFlavor Liked  Flavor Rating  Texture Rating  \\\n",
       "0     Mint Chocolate Chip    Vanilla   Yes           10.0             8.0   \n",
       "1               Chocolate  Chocolate   Yes            8.8             7.6   \n",
       "2                 Vanilla    Vanilla    No            4.7             5.0   \n",
       "3            Cookie Dough    Vanilla   Yes            6.9             6.5   \n",
       "4              Rocky Road  Chocolate   Yes            8.2             7.0   \n",
       "5               Pistachio    Vanilla    No            2.3             3.4   \n",
       "6             Cake Batter    Vanilla   Yes            6.5             6.0   \n",
       "7              Neapolitan    Vanilla    No            3.8             5.0   \n",
       "8  Chocolte Fudge Brownie  Chocolate   Yes            8.2             7.1   \n",
       "\n",
       "   Total Rating  \n",
       "0          18.0  \n",
       "1          16.6  \n",
       "2           9.7  \n",
       "3          13.4  \n",
       "4          15.2  \n",
       "5           5.7  \n",
       "6          12.5  \n",
       "7           8.8  \n",
       "8          15.3  "
      ]
     },
     "execution_count": 21,
     "metadata": {},
     "output_type": "execute_result"
    }
   ],
   "source": [
    "data = {\n",
    "    \"Department\": [\"IT\", \"HR\", \"IT\", \"Finance\", \"HR\", \"Finance\", \"IT\"],\n",
    "    \"Employee\": [\"A\", \"B\", \"C\", \"D\", \"E\", \"F\", \"G\"],\n",
    "    \"Salary\": [60000, 45000, 65000, 70000, 48000, 72000, 64000]\n",
    "}\n",
    "dff = pd.DataFrame(data)\n",
    "df = pd.read_csv(\"Flavors.csv\")\n",
    "df"
   ]
  },
  {
   "cell_type": "markdown",
   "id": "0db28d62-e107-481b-a887-e8b3a853109a",
   "metadata": {},
   "source": [
    "## Groupby Function"
   ]
  },
  {
   "cell_type": "code",
   "execution_count": 22,
   "id": "71077c4f",
   "metadata": {},
   "outputs": [],
   "source": [
    "group_by_frame = df.groupby(['BaseFlavor'])[\"Flavor Rating\"].mean()"
   ]
  },
  {
   "cell_type": "code",
   "execution_count": 18,
   "id": "b3e3dc8d",
   "metadata": {},
   "outputs": [
    {
     "data": {
      "text/plain": [
       "BaseFlavor  Liked\n",
       "Chocolate   Yes      8.4\n",
       "Vanilla     No       3.6\n",
       "            Yes      7.8\n",
       "Name: Flavor Rating, dtype: float64"
      ]
     },
     "execution_count": 18,
     "metadata": {},
     "output_type": "execute_result"
    }
   ],
   "source": [
    "group_by_frame"
   ]
  },
  {
   "cell_type": "code",
   "execution_count": 19,
   "id": "1da038ca",
   "metadata": {},
   "outputs": [
    {
     "data": {
      "text/html": [
       "<div>\n",
       "<style scoped>\n",
       "    .dataframe tbody tr th:only-of-type {\n",
       "        vertical-align: middle;\n",
       "    }\n",
       "\n",
       "    .dataframe tbody tr th {\n",
       "        vertical-align: top;\n",
       "    }\n",
       "\n",
       "    .dataframe thead th {\n",
       "        text-align: right;\n",
       "    }\n",
       "</style>\n",
       "<table border=\"1\" class=\"dataframe\">\n",
       "  <thead>\n",
       "    <tr style=\"text-align: right;\">\n",
       "      <th></th>\n",
       "      <th>Flavor</th>\n",
       "      <th>Liked</th>\n",
       "      <th>Flavor Rating</th>\n",
       "      <th>Texture Rating</th>\n",
       "      <th>Total Rating</th>\n",
       "    </tr>\n",
       "    <tr>\n",
       "      <th>BaseFlavor</th>\n",
       "      <th></th>\n",
       "      <th></th>\n",
       "      <th></th>\n",
       "      <th></th>\n",
       "      <th></th>\n",
       "    </tr>\n",
       "  </thead>\n",
       "  <tbody>\n",
       "    <tr>\n",
       "      <th>Chocolate</th>\n",
       "      <td>3</td>\n",
       "      <td>3</td>\n",
       "      <td>3</td>\n",
       "      <td>3</td>\n",
       "      <td>3</td>\n",
       "    </tr>\n",
       "    <tr>\n",
       "      <th>Vanilla</th>\n",
       "      <td>6</td>\n",
       "      <td>6</td>\n",
       "      <td>6</td>\n",
       "      <td>6</td>\n",
       "      <td>6</td>\n",
       "    </tr>\n",
       "  </tbody>\n",
       "</table>\n",
       "</div>"
      ],
      "text/plain": [
       "            Flavor  Liked  Flavor Rating  Texture Rating  Total Rating\n",
       "BaseFlavor                                                            \n",
       "Chocolate        3      3              3               3             3\n",
       "Vanilla          6      6              6               6             6"
      ]
     },
     "execution_count": 19,
     "metadata": {},
     "output_type": "execute_result"
    }
   ],
   "source": [
    "df.groupby(\"BaseFlavor\").count()"
   ]
  },
  {
   "cell_type": "code",
   "execution_count": 20,
   "id": "4c3d134f-fbeb-45f2-b9f7-3d12bc95f3a0",
   "metadata": {},
   "outputs": [
    {
     "data": {
      "text/html": [
       "<div>\n",
       "<style scoped>\n",
       "    .dataframe tbody tr th:only-of-type {\n",
       "        vertical-align: middle;\n",
       "    }\n",
       "\n",
       "    .dataframe tbody tr th {\n",
       "        vertical-align: top;\n",
       "    }\n",
       "\n",
       "    .dataframe thead th {\n",
       "        text-align: right;\n",
       "    }\n",
       "</style>\n",
       "<table border=\"1\" class=\"dataframe\">\n",
       "  <thead>\n",
       "    <tr style=\"text-align: right;\">\n",
       "      <th></th>\n",
       "      <th>Flavor</th>\n",
       "      <th>Liked</th>\n",
       "      <th>Flavor Rating</th>\n",
       "      <th>Texture Rating</th>\n",
       "      <th>Total Rating</th>\n",
       "    </tr>\n",
       "    <tr>\n",
       "      <th>BaseFlavor</th>\n",
       "      <th></th>\n",
       "      <th></th>\n",
       "      <th></th>\n",
       "      <th></th>\n",
       "      <th></th>\n",
       "    </tr>\n",
       "  </thead>\n",
       "  <tbody>\n",
       "    <tr>\n",
       "      <th>Chocolate</th>\n",
       "      <td>ChocolateRocky RoadChocolte Fudge Brownie</td>\n",
       "      <td>YesYesYes</td>\n",
       "      <td>25.2</td>\n",
       "      <td>21.7</td>\n",
       "      <td>47.1</td>\n",
       "    </tr>\n",
       "    <tr>\n",
       "      <th>Vanilla</th>\n",
       "      <td>Mint Chocolate ChipVanillaCookie DoughPistachi...</td>\n",
       "      <td>YesNoYesNoYesNo</td>\n",
       "      <td>34.2</td>\n",
       "      <td>33.9</td>\n",
       "      <td>68.1</td>\n",
       "    </tr>\n",
       "  </tbody>\n",
       "</table>\n",
       "</div>"
      ],
      "text/plain": [
       "                                                       Flavor  \\\n",
       "BaseFlavor                                                      \n",
       "Chocolate           ChocolateRocky RoadChocolte Fudge Brownie   \n",
       "Vanilla     Mint Chocolate ChipVanillaCookie DoughPistachi...   \n",
       "\n",
       "                      Liked  Flavor Rating  Texture Rating  Total Rating  \n",
       "BaseFlavor                                                                \n",
       "Chocolate         YesYesYes           25.2            21.7          47.1  \n",
       "Vanilla     YesNoYesNoYesNo           34.2            33.9          68.1  "
      ]
     },
     "execution_count": 20,
     "metadata": {},
     "output_type": "execute_result"
    }
   ],
   "source": [
    "df.groupby(\"BaseFlavor\").sum()"
   ]
  },
  {
   "cell_type": "code",
   "execution_count": 24,
   "id": "f0ec7a04-c845-4f22-b8db-dec310aa1c2c",
   "metadata": {},
   "outputs": [
    {
     "data": {
      "text/plain": [
       "Department\n",
       "Finance    71000.0\n",
       "HR         46500.0\n",
       "IT         63000.0\n",
       "Name: Salary, dtype: float64"
      ]
     },
     "execution_count": 24,
     "metadata": {},
     "output_type": "execute_result"
    }
   ],
   "source": [
    "dff.groupby(\"Department\")[\"Salary\"].mean()"
   ]
  },
  {
   "cell_type": "markdown",
   "id": "487f2961-2b02-4928-80ea-2c01e00a5854",
   "metadata": {},
   "source": [
    "## Group by with Aggregate"
   ]
  },
  {
   "cell_type": "code",
   "execution_count": 29,
   "id": "5a425bc8-5fc5-4b0b-913d-7b44a5d83039",
   "metadata": {},
   "outputs": [
    {
     "data": {
      "text/html": [
       "<div>\n",
       "<style scoped>\n",
       "    .dataframe tbody tr th:only-of-type {\n",
       "        vertical-align: middle;\n",
       "    }\n",
       "\n",
       "    .dataframe tbody tr th {\n",
       "        vertical-align: top;\n",
       "    }\n",
       "\n",
       "    .dataframe thead th {\n",
       "        text-align: right;\n",
       "    }\n",
       "</style>\n",
       "<table border=\"1\" class=\"dataframe\">\n",
       "  <thead>\n",
       "    <tr style=\"text-align: right;\">\n",
       "      <th></th>\n",
       "      <th>sum</th>\n",
       "      <th>mean</th>\n",
       "      <th>count</th>\n",
       "    </tr>\n",
       "    <tr>\n",
       "      <th>Department</th>\n",
       "      <th></th>\n",
       "      <th></th>\n",
       "      <th></th>\n",
       "    </tr>\n",
       "  </thead>\n",
       "  <tbody>\n",
       "    <tr>\n",
       "      <th>Finance</th>\n",
       "      <td>142000</td>\n",
       "      <td>71000.0</td>\n",
       "      <td>2</td>\n",
       "    </tr>\n",
       "    <tr>\n",
       "      <th>HR</th>\n",
       "      <td>93000</td>\n",
       "      <td>46500.0</td>\n",
       "      <td>2</td>\n",
       "    </tr>\n",
       "    <tr>\n",
       "      <th>IT</th>\n",
       "      <td>189000</td>\n",
       "      <td>63000.0</td>\n",
       "      <td>3</td>\n",
       "    </tr>\n",
       "  </tbody>\n",
       "</table>\n",
       "</div>"
      ],
      "text/plain": [
       "               sum     mean  count\n",
       "Department                        \n",
       "Finance     142000  71000.0      2\n",
       "HR           93000  46500.0      2\n",
       "IT          189000  63000.0      3"
      ]
     },
     "execution_count": 29,
     "metadata": {},
     "output_type": "execute_result"
    }
   ],
   "source": [
    "dff.groupby(\"Department\")[\"Salary\"].agg([\"sum\",\"mean\",\"count\",])"
   ]
  },
  {
   "cell_type": "markdown",
   "id": "c6a71498-294a-4b23-badc-e9779ec783e4",
   "metadata": {},
   "source": [
    "## Shorting"
   ]
  },
  {
   "cell_type": "code",
   "execution_count": 35,
   "id": "b10fd9ca-e7a5-416b-a3c4-490a8bd0cd0b",
   "metadata": {},
   "outputs": [
    {
     "name": "stdout",
     "output_type": "stream",
     "text": [
      "  Department Employee  Salary\n",
      "5    Finance        F   72000\n",
      "3    Finance        D   70000\n",
      "2         IT        C   65000\n",
      "6         IT        G   64000\n",
      "0         IT        A   60000\n",
      "4         HR        E   48000\n",
      "1         HR        B   45000\n"
     ]
    }
   ],
   "source": [
    "shortoff = dff.sort_values(\"Salary\", ascending=False)\n",
    "print(shortoff)"
   ]
  },
  {
   "cell_type": "code",
   "execution_count": 39,
   "id": "3c0ceea1-60c1-4b80-88d5-6249b92910a8",
   "metadata": {},
   "outputs": [],
   "source": [
    "group_short = dff.groupby(\"Department\")[\"Salary\"].mean().sort_values(ascending=False)"
   ]
  },
  {
   "cell_type": "code",
   "execution_count": 40,
   "id": "a6f9901d-4b00-4bc1-a972-34f4b6488287",
   "metadata": {},
   "outputs": [
    {
     "name": "stdout",
     "output_type": "stream",
     "text": [
      "Department\n",
      "Finance    71000.0\n",
      "IT         63000.0\n",
      "HR         46500.0\n",
      "Name: Salary, dtype: float64\n"
     ]
    }
   ],
   "source": [
    "print(group_short)"
   ]
  },
  {
   "cell_type": "code",
   "execution_count": null,
   "id": "de8167ff-8c29-4dcf-bcf0-0d5f72da5c9c",
   "metadata": {},
   "outputs": [],
   "source": []
  }
 ],
 "metadata": {
  "kernelspec": {
   "display_name": "base",
   "language": "python",
   "name": "python3"
  },
  "language_info": {
   "codemirror_mode": {
    "name": "ipython",
    "version": 3
   },
   "file_extension": ".py",
   "mimetype": "text/x-python",
   "name": "python",
   "nbconvert_exporter": "python",
   "pygments_lexer": "ipython3",
   "version": "3.13.5"
  }
 },
 "nbformat": 4,
 "nbformat_minor": 5
}
