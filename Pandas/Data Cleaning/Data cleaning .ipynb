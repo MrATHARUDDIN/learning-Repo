{
 "cells": [
  {
   "cell_type": "code",
   "execution_count": null,
   "id": "220ba233",
   "metadata": {},
   "outputs": [],
   "source": [
    "# To data clening we need to first look at the data\n",
    "# and understand its structure and content. \n",
    "\n",
    "import pandas as pd\n",
    "df = pd.read_csv(\"world_population.csv\")\n"
   ]
  },
  {
   "cell_type": "code",
   "execution_count": 9,
   "id": "735b5864",
   "metadata": {},
   "outputs": [
    {
     "name": "stdout",
     "output_type": "stream",
     "text": [
      "     Rank CCA3            Country           Capital Continent  \\\n",
      "0      36  AFG        Afghanistan             Kabul      Asia   \n",
      "1     138  ALB            Albania            Tirana    Europe   \n",
      "2      34  DZA            Algeria           Algiers    Africa   \n",
      "3     213  ASM     American Samoa         Pago Pago   Oceania   \n",
      "4     203  AND            Andorra  Andorra la Vella    Europe   \n",
      "..    ...  ...                ...               ...       ...   \n",
      "228    16  VNM            Vietnam             Hanoi      Asia   \n",
      "229   226  WLF  Wallis and Futuna          Mata-Utu   Oceania   \n",
      "230   172  ESH     Western Sahara          El Aaiún    Africa   \n",
      "231    46  YEM              Yemen             Sanaa      Asia   \n",
      "233    74  ZWE           Zimbabwe            Harare    Africa   \n",
      "\n",
      "     2022 Population  2020 Population  2015 Population  2010 Population  \\\n",
      "0         41128771.0       38972230.0       33753499.0       28189672.0   \n",
      "1          2842321.0        2866849.0        2882481.0        2913399.0   \n",
      "2         44903225.0       43451666.0       39543154.0       35856344.0   \n",
      "3            44273.0          46189.0          51368.0          54849.0   \n",
      "4            79824.0          77700.0          71746.0          71519.0   \n",
      "..               ...              ...              ...              ...   \n",
      "228       98186856.0       96648685.0       92191398.0       87411012.0   \n",
      "229          11572.0          11655.0          12182.0          13142.0   \n",
      "230         575986.0         556048.0         491824.0         413296.0   \n",
      "231       33696614.0       32284046.0       28516545.0       24743946.0   \n",
      "233       16320537.0       15669666.0       14154937.0       12839771.0   \n",
      "\n",
      "     2000 Population  1990 Population  1980 Population  1970 Population  \\\n",
      "0         19542982.0       10694796.0       12486631.0       10752971.0   \n",
      "1          3182021.0        3295066.0        2941651.0        2324731.0   \n",
      "2         30774621.0       25518074.0       18739378.0       13795915.0   \n",
      "3            58230.0          47818.0          32886.0          27075.0   \n",
      "4            66097.0          53569.0          35611.0          19860.0   \n",
      "..               ...              ...              ...              ...   \n",
      "228       79001142.0       66912613.0       52968270.0       41928849.0   \n",
      "229          14723.0          13454.0          11315.0           9377.0   \n",
      "230         270375.0         178529.0         116775.0          76371.0   \n",
      "231       18628700.0       13375121.0        9204938.0        6843607.0   \n",
      "233       11834676.0       10113893.0        7049926.0        5202918.0   \n",
      "\n",
      "     Area (km²)  Density (per km²)  Growth Rate  World Population Percentage  \n",
      "0      652230.0            63.0587       1.0257                         0.52  \n",
      "1       28748.0            98.8702       0.9957                         0.04  \n",
      "2     2381741.0            18.8531       1.0164                         0.56  \n",
      "3         199.0           222.4774       0.9831                         0.00  \n",
      "4         468.0           170.5641       1.0100                         0.00  \n",
      "..          ...                ...          ...                          ...  \n",
      "228    331212.0           296.4472       1.0074                         1.23  \n",
      "229       142.0            81.4930       0.9953                         0.00  \n",
      "230    266000.0             2.1654       1.0184                         0.01  \n",
      "231    527968.0            63.8232       1.0217                         0.42  \n",
      "233    390757.0            41.7665       1.0204                         0.20  \n",
      "\n",
      "[209 rows x 17 columns]\n"
     ]
    }
   ],
   "source": [
    "df = df.dropna()  # Remove rows with missing values\n",
    "df = df.drop_duplicates()  # Remove duplicate rows\n",
    "print(df)"
   ]
  }
 ],
 "metadata": {
  "kernelspec": {
   "display_name": "base",
   "language": "python",
   "name": "python3"
  },
  "language_info": {
   "codemirror_mode": {
    "name": "ipython",
    "version": 3
   },
   "file_extension": ".py",
   "mimetype": "text/x-python",
   "name": "python",
   "nbconvert_exporter": "python",
   "pygments_lexer": "ipython3",
   "version": "3.13.5"
  }
 },
 "nbformat": 4,
 "nbformat_minor": 5
}
