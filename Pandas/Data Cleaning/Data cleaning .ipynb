{
 "cells": [
  {
   "cell_type": "code",
   "execution_count": 20,
   "id": "220ba233",
   "metadata": {},
   "outputs": [],
   "source": [
    "# To data clening we need to first look at the data\n",
    "# and understand its structure and content. \n",
    "\n",
    "import pandas as pd\n",
    "df = pd.read_csv(\"world_population.csv\")\n",
    "df.columns = df.columns.str.strip().str.lower().str.replace(\" \" , \"_\")  # Clean column names by stripping whitespace and make them lowercase\n"
   ]
  },
  {
   "cell_type": "code",
   "execution_count": null,
   "id": "735b5864",
   "metadata": {},
   "outputs": [
    {
     "name": "stdout",
     "output_type": "stream",
     "text": [
      "     rank           country           capital      continent  2022_population  \\\n",
      "0       1             China           Beijing           Asia     1.425887e+09   \n",
      "1       2             India         New Delhi           Asia     1.417173e+09   \n",
      "2       3               USA  Washington, D.C.  North America     3.382899e+08   \n",
      "3       4         Indonesia           Jakarta           Asia     2.755013e+08   \n",
      "4       5          Pakistan         Islamabad           Asia     2.358249e+08   \n",
      "..    ...               ...               ...            ...              ...   \n",
      "224   230        Montserrat            Brades  North America     4.390000e+03   \n",
      "225   231  Falkland Islands           Stanley  South America     3.780000e+03   \n",
      "226   232              Niue             Alofi        Oceania     1.934000e+03   \n",
      "227   233           Tokelau          Nukunonu        Oceania     1.871000e+03   \n",
      "228   234           Vatican      Vatican City         Europe     5.100000e+02   \n",
      "\n",
      "     2020_population  2015_population  2010_population  2000_population  \\\n",
      "0       1.424930e+09     1.393715e+09     1.348191e+09     1.264099e+09   \n",
      "1       1.396387e+09     1.322867e+09     1.240614e+09     1.059634e+09   \n",
      "2       3.359420e+08     3.246078e+08     3.111828e+08     2.823986e+08   \n",
      "3       2.718580e+08     2.590920e+08     2.440162e+08     2.140724e+08   \n",
      "4       2.271967e+08     2.109693e+08     1.944545e+08     1.543699e+08   \n",
      "..               ...              ...              ...              ...   \n",
      "224     4.500000e+03     5.059000e+03     4.938000e+03     5.138000e+03   \n",
      "225     3.747000e+03     3.408000e+03     3.187000e+03     3.080000e+03   \n",
      "226     1.942000e+03     1.847000e+03     1.812000e+03     2.074000e+03   \n",
      "227     1.827000e+03     1.454000e+03     1.367000e+03     1.666000e+03   \n",
      "228     5.200000e+02     5.640000e+02     5.960000e+02     6.510000e+02   \n",
      "\n",
      "     1990_population  1980_population  1970_population  area_(km²)  \\\n",
      "0       1.153704e+09      982372466.0      822534450.0   9706961.0   \n",
      "1                NaN              NaN      557501301.0   3287590.0   \n",
      "2       2.480837e+08      223140018.0      200328340.0   9372610.0   \n",
      "3       1.821599e+08      148177096.0      115228394.0   1904569.0   \n",
      "4       1.154141e+08       80624057.0       59290872.0    881912.0   \n",
      "..               ...              ...              ...         ...   \n",
      "224     1.080500e+04          11452.0          11402.0       102.0   \n",
      "225     2.332000e+03           2240.0           2274.0     12173.0   \n",
      "226     2.533000e+03           3637.0           5185.0       260.0   \n",
      "227     1.669000e+03           1647.0           1714.0        12.0   \n",
      "228     7.000000e+02            733.0            752.0         1.0   \n",
      "\n",
      "     density_(per_km²)  growth_rate  world_population_percentage  \n",
      "0             146.8933       1.0000                        17.88  \n",
      "1             431.0675       1.0068                        17.77  \n",
      "2              36.0935       1.0038                         4.24  \n",
      "3             144.6529       1.0064                         3.45  \n",
      "4             267.4018       1.0191                         2.96  \n",
      "..                 ...          ...                          ...  \n",
      "224            43.0392       0.9939                         0.00  \n",
      "225             0.3105       1.0043                         0.00  \n",
      "226             7.4385       0.9985                         0.00  \n",
      "227           155.9167       1.0119                         0.00  \n",
      "228           510.0000       0.9980                         0.00  \n",
      "\n",
      "[229 rows x 16 columns]\n"
     ]
    }
   ],
   "source": [
    "df = df.drop_duplicates()  # Remove duplicate rows\n",
    "df = df.sort_values(by=\"rank\", ascending=True)\n",
    "df = df.reset_index(drop=True)  # Reset index after sorting\n",
    "\n",
    "\n",
    "df = df[df[\"2022_population\"] > 0]\n",
    "df = df[df[\"2020_population\"] > 0]\n",
    "df = df.drop(columns=[\"1970_population\"])\n",
    "\n",
    "df = df.drop(columns=[\"cca3\"])\n",
    "df[\"country\"] = df[\"country\"].replace({\n",
    "    \"United States\": \"USA\",\n",
    "    \"Vatican City\": \"Vatican\",\n",
    "    \"Russian Federation\": \"Russia\",\n",
    "    \"Czech Republic\": \"Czechia\",\n",
    "    \"South Korea\": \"Korea, South\",\n",
    "    \"North Korea\": \"Korea, North\",\n",
    "    \"United Kingdom\": \"UK\",\n",
    "    })\n",
    "\n",
    "print(df)"
   ]
  },
  {
   "cell_type": "code",
   "execution_count": 39,
   "id": "c8619ad1",
   "metadata": {},
   "outputs": [
    {
     "name": "stdout",
     "output_type": "stream",
     "text": [
      "      country  2022_population\n",
      "0       China     1.425887e+09\n",
      "1       India     1.417173e+09\n",
      "2         USA     3.382899e+08\n",
      "3   Indonesia     2.755013e+08\n",
      "4    Pakistan     2.358249e+08\n",
      "5     Nigeria     2.185412e+08\n",
      "6      Brazil     2.153135e+08\n",
      "7  Bangladesh     1.711864e+08\n",
      "8      Russia     1.447133e+08\n",
      "9      Mexico     1.275041e+08\n",
      "                      country  growth_rate_2010_2022\n",
      "82                     Jordan              62.825695\n",
      "124                      Oman              58.793704\n",
      "53                      Niger              57.428499\n",
      "140                     Qatar              57.287173\n",
      "177                   Mayotte              53.976656\n",
      "207  Turks and Caicos Islands              53.747561\n",
      "149         Equatorial Guinea              53.026156\n",
      "41                     Angola              52.322827\n",
      "14                   DR Congo              49.131401\n",
      "68                       Chad              49.001444\n"
     ]
    }
   ],
   "source": [
    "# Top 10 countries by population in 2022\n",
    "top_10_countries = df.sort_values(by=\"2022_population\", ascending=False).head(10)\n",
    "print(top_10_countries[[\"country\", \"2022_population\"]])\n",
    "\n",
    "# Groth rate from 2010 to 2022\n",
    "rate_growth = ((df[\"2022_population\"] - df[\"2010_population\"]) / df[\"2010_population\"]) * 100\n",
    "df[\"growth_rate_2010_2022\"] = rate_growth\n",
    "print(df[[\"country\", \"growth_rate_2010_2022\"]].sort_values(by=\"growth_rate_2010_2022\", ascending=False).head(10))"
   ]
  },
  {
   "cell_type": "code",
   "execution_count": null,
   "id": "72cd299c",
   "metadata": {},
   "outputs": [],
   "source": [
    "# total population in 2022 by continent\n",
    "total_popu = df.groupby(\"continent\")[\"2022_population\"].sum().sort_values"
   ]
  }
 ],
 "metadata": {
  "kernelspec": {
   "display_name": "base",
   "language": "python",
   "name": "python3"
  },
  "language_info": {
   "codemirror_mode": {
    "name": "ipython",
    "version": 3
   },
   "file_extension": ".py",
   "mimetype": "text/x-python",
   "name": "python",
   "nbconvert_exporter": "python",
   "pygments_lexer": "ipython3",
   "version": "3.13.5"
  }
 },
 "nbformat": 4,
 "nbformat_minor": 5
}
