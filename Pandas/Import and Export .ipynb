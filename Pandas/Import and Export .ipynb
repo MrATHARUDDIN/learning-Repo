{
 "cells": [
  {
   "cell_type": "code",
   "execution_count": 13,
   "id": "781f46ca-b4fd-4eea-b7d5-4ff8fa90e86b",
   "metadata": {},
   "outputs": [
    {
     "name": "stdout",
     "output_type": "stream",
     "text": [
      "0    1\n",
      "1    2\n",
      "2    3\n",
      "3    4\n",
      "4    5\n",
      "5    6\n",
      "dtype: int64\n"
     ]
    }
   ],
   "source": [
    "import pandas as pd\n",
    "\n",
    "a = [1,2,3,4,5,6]\n",
    "myseries = pd.Series(a)\n",
    "print(myseries)"
   ]
  },
  {
   "cell_type": "code",
   "execution_count": 14,
   "id": "4d0eebd4-e6f8-453c-a79a-357a8816b9f6",
   "metadata": {},
   "outputs": [
    {
     "name": "stdout",
     "output_type": "stream",
     "text": [
      "    name  age      job\n",
      "0  athar   17       IT\n",
      "1  maria   15  Medical\n",
      "2    leo   16       IT\n"
     ]
    }
   ],
   "source": [
    "import pandas as pd\n",
    "data = ({\n",
    "    \"name\":[\"athar\",\"maria\",\"leo\"],\n",
    "    \"age\":[17,15,16],\n",
    "    \"job\":[\"IT\",\"Medical\",\"IT\"]\n",
    "})\n",
    "\n",
    "df = pd.DataFrame(data)\n",
    "print(df)"
   ]
  },
  {
   "cell_type": "code",
   "execution_count": 19,
   "id": "f3fbe4ba-0edd-460f-9e16-451bff8012ad",
   "metadata": {},
   "outputs": [],
   "source": [
    "df.to_csv(\"Export.csv\", index=None) # Export in Csv file\n",
    "df.to_json(\"Export.json\", index=None) # Export in Json file"
   ]
  },
  {
   "cell_type": "code",
   "execution_count": null,
   "id": "37e6cd72",
   "metadata": {},
   "outputs": [
    {
     "data": {
      "text/html": [
       "<div>\n",
       "<style scoped>\n",
       "    .dataframe tbody tr th:only-of-type {\n",
       "        vertical-align: middle;\n",
       "    }\n",
       "\n",
       "    .dataframe tbody tr th {\n",
       "        vertical-align: top;\n",
       "    }\n",
       "\n",
       "    .dataframe thead th {\n",
       "        text-align: right;\n",
       "    }\n",
       "</style>\n",
       "<table border=\"1\" class=\"dataframe\">\n",
       "  <thead>\n",
       "    <tr style=\"text-align: right;\">\n",
       "      <th></th>\n",
       "      <th>name</th>\n",
       "      <th>age</th>\n",
       "      <th>job</th>\n",
       "    </tr>\n",
       "  </thead>\n",
       "  <tbody>\n",
       "    <tr>\n",
       "      <th>0</th>\n",
       "      <td>athar</td>\n",
       "      <td>17</td>\n",
       "      <td>IT</td>\n",
       "    </tr>\n",
       "    <tr>\n",
       "      <th>1</th>\n",
       "      <td>maria</td>\n",
       "      <td>15</td>\n",
       "      <td>Medical</td>\n",
       "    </tr>\n",
       "    <tr>\n",
       "      <th>2</th>\n",
       "      <td>leo</td>\n",
       "      <td>16</td>\n",
       "      <td>IT</td>\n",
       "    </tr>\n",
       "  </tbody>\n",
       "</table>\n",
       "</div>"
      ],
      "text/plain": [
       "    name  age      job\n",
       "0  athar   17       IT\n",
       "1  maria   15  Medical\n",
       "2    leo   16       IT"
      ]
     },
     "execution_count": 21,
     "metadata": {},
     "output_type": "execute_result"
    }
   ],
   "source": [
    "pd.read_csv(\"Export.csv\", index_col=1) # Read the Csv file"
   ]
  }
 ],
 "metadata": {
  "kernelspec": {
   "display_name": "base",
   "language": "python",
   "name": "python3"
  },
  "language_info": {
   "codemirror_mode": {
    "name": "ipython",
    "version": 3
   },
   "file_extension": ".py",
   "mimetype": "text/x-python",
   "name": "python",
   "nbconvert_exporter": "python",
   "pygments_lexer": "ipython3",
   "version": "3.13.5"
  }
 },
 "nbformat": 4,
 "nbformat_minor": 5
}
